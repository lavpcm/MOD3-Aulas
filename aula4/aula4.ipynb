{
 "cells": [
  {
   "cell_type": "code",
   "execution_count": null,
   "id": "0464e0a1",
   "metadata": {},
   "outputs": [],
   "source": [
    "# importação das bibliotecas e o carregamento do CSV\n",
    "\n",
    "import matplotlib.pyplot as plt\n",
    "import pandas as pd\n",
    "import numpy as np\n",
    "import seaborn as sns\n",
    "import scipy.stats as stats \n",
    "\n",
    "df = pd.read_csv('campeonato-brasileiro-full.csv')\n"
   ]
  },
  {
   "cell_type": "code",
   "execution_count": null,
   "id": "6e1f971b",
   "metadata": {},
   "outputs": [
    {
     "name": "stdout",
     "output_type": "stream",
     "text": [
      "   ID  rodada        data   hora      dia       mandante    visitante  \\\n",
      "0   1       1  2003-03-29  16:00   Sabado        Guarani        Vasco   \n",
      "1   2       1  2003-03-29  16:00   Sabado   Athletico-PR       Gremio   \n",
      "2   3       1  2003-03-30  16:00  Domingo       Flamengo     Coritiba   \n",
      "3   4       1  2003-03-30  16:00  Domingo          Goias     Paysandu   \n",
      "4   5       1  2003-03-30  16:00  Domingo  Internacional  Ponte Preta   \n",
      "5   6       1  2003-03-30  16:00  Domingo       Criciuma   Fluminense   \n",
      "6   7       1  2003-03-30  16:00  Domingo      Juventude    Sao Paulo   \n",
      "7   8       1  2003-03-30  16:00  Domingo      Fortaleza        Bahia   \n",
      "8   9       1  2003-03-30  16:00  Domingo       Cruzeiro  Sao Caetano   \n",
      "9  10       1  2003-03-30  16:00  Domingo        Vitoria  Figueirense   \n",
      "\n",
      "  formacao_mandante formacao_visitante tecnico_mandante tecnico_visitante  \\\n",
      "0               NaN                NaN              NaN               NaN   \n",
      "1               NaN                NaN              NaN               NaN   \n",
      "2               NaN                NaN              NaN               NaN   \n",
      "3               NaN                NaN              NaN               NaN   \n",
      "4               NaN                NaN              NaN               NaN   \n",
      "5               NaN                NaN              NaN               NaN   \n",
      "6               NaN                NaN              NaN               NaN   \n",
      "7               NaN                NaN              NaN               NaN   \n",
      "8               NaN                NaN              NaN               NaN   \n",
      "9               NaN                NaN              NaN               NaN   \n",
      "\n",
      "       vencedor             arena  mandante_placar  visitante_placar  \\\n",
      "0       Guarani    brinco de ouro                4                 2   \n",
      "1  Athletico-PR  arena da baixada                2                 0   \n",
      "2             -          maracana                1                 1   \n",
      "3             -     serra dourada                2                 2   \n",
      "4             -         beira rio                1                 1   \n",
      "5      Criciuma   heriberto hulse                2                 0   \n",
      "6             -    alfredo jaconi                2                 2   \n",
      "7             -          castelao                0                 0   \n",
      "8             -          mineirao                2                 2   \n",
      "9             -          barradao                1                 1   \n",
      "\n",
      "  mandante_estado visitante_estado estado_vencedor  \n",
      "0              SP               RJ              SP  \n",
      "1              PR               RS              PR  \n",
      "2              RJ               PR               -  \n",
      "3              GO               PA               -  \n",
      "4              RS               SP               -  \n",
      "5              SC               RJ              SC  \n",
      "6              RS               SP               -  \n",
      "7              CE               BA               -  \n",
      "8              MG               SP               -  \n",
      "9              BA               SC               -  \n",
      "<class 'pandas.core.frame.DataFrame'>\n",
      "RangeIndex: 7645 entries, 0 to 7644\n",
      "Data columns (total 18 columns):\n",
      " #   Column              Non-Null Count  Dtype \n",
      "---  ------              --------------  ----- \n",
      " 0   ID                  7645 non-null   int64 \n",
      " 1   rodada              7645 non-null   int64 \n",
      " 2   data                7645 non-null   object\n",
      " 3   hora                7645 non-null   object\n",
      " 4   dia                 7645 non-null   object\n",
      " 5   mandante            7645 non-null   object\n",
      " 6   visitante           7645 non-null   object\n",
      " 7   formacao_mandante   2671 non-null   object\n",
      " 8   formacao_visitante  2671 non-null   object\n",
      " 9   tecnico_mandante    3035 non-null   object\n",
      " 10  tecnico_visitante   3035 non-null   object\n",
      " 11  vencedor            7645 non-null   object\n",
      " 12  arena               7645 non-null   object\n",
      " 13  mandante_placar     7645 non-null   int64 \n",
      " 14  visitante_placar    7645 non-null   int64 \n",
      " 15  mandante_estado     7645 non-null   object\n",
      " 16  visitante_estado    7645 non-null   object\n",
      " 17  estado_vencedor     7645 non-null   object\n",
      "dtypes: int64(4), object(14)\n",
      "memory usage: 1.1+ MB\n",
      "None \n",
      "\n",
      "ID                       0\n",
      "rodada                   0\n",
      "data                     0\n",
      "hora                     0\n",
      "dia                      0\n",
      "mandante                 0\n",
      "visitante                0\n",
      "formacao_mandante     4974\n",
      "formacao_visitante    4974\n",
      "tecnico_mandante      4610\n",
      "tecnico_visitante     4610\n",
      "vencedor                 0\n",
      "arena                    0\n",
      "mandante_placar          0\n",
      "visitante_placar         0\n",
      "mandante_estado          0\n",
      "visitante_estado         0\n",
      "estado_vencedor          0\n",
      "dtype: int64 \n",
      "\n"
     ]
    }
   ],
   "source": [
    "# 4. verificação de informações gerais\n",
    "print(df.head(10))\n",
    "print(df.info(), \"\\n\")\n",
    "print(df.isnull().sum(), \"\\n\") "
   ]
  },
  {
   "cell_type": "code",
   "execution_count": 34,
   "id": "28cc0316",
   "metadata": {},
   "outputs": [
    {
     "name": "stdout",
     "output_type": "stream",
     "text": [
      "                ID       rodada  mandante_placar  visitante_placar\n",
      "count  7645.000000  7645.000000      7645.000000       7645.000000\n",
      "mean   3823.000000    20.196207         1.554088          1.027338\n",
      "std    2207.065737    11.489249         1.234262          1.030366\n",
      "min       1.000000     1.000000         0.000000          0.000000\n",
      "25%    1912.000000    10.000000         1.000000          0.000000\n",
      "50%    3823.000000    20.000000         1.000000          1.000000\n",
      "75%    5734.000000    30.000000         2.000000          2.000000\n",
      "max    7645.000000    46.000000         7.000000          7.000000\n"
     ]
    }
   ],
   "source": [
    "# 5 estatísticas descritivas básicas das colunas (numéricas) do dataset\n",
    "print(df.describe())"
   ]
  },
  {
   "cell_type": "code",
   "execution_count": 35,
   "id": "cd0ec8f6",
   "metadata": {},
   "outputs": [
    {
     "name": "stdout",
     "output_type": "stream",
     "text": [
      "ID                       0\n",
      "rodada                   0\n",
      "data                     0\n",
      "hora                     0\n",
      "dia                      0\n",
      "mandante                 0\n",
      "visitante                0\n",
      "formacao_mandante     4974\n",
      "formacao_visitante    4974\n",
      "tecnico_mandante      4610\n",
      "tecnico_visitante     4610\n",
      "vencedor                 0\n",
      "arena                    0\n",
      "mandante_placar          0\n",
      "visitante_placar         0\n",
      "mandante_estado          0\n",
      "visitante_estado         0\n",
      "estado_vencedor          0\n",
      "dtype: int64\n"
     ]
    }
   ],
   "source": [
    "# 6. contagem de valores ausentes por coluna\n",
    "print(df.isnull().sum())\n"
   ]
  },
  {
   "cell_type": "code",
   "execution_count": 38,
   "id": "9bf3dec3",
   "metadata": {},
   "outputs": [
    {
     "name": "stdout",
     "output_type": "stream",
     "text": [
      "ID                    0\n",
      "rodada                0\n",
      "data                  0\n",
      "hora                  0\n",
      "dia                   0\n",
      "mandante              0\n",
      "visitante             0\n",
      "formacao_mandante     0\n",
      "formacao_visitante    0\n",
      "tecnico_mandante      0\n",
      "tecnico_visitante     0\n",
      "vencedor              0\n",
      "arena                 0\n",
      "mandante_placar       0\n",
      "visitante_placar      0\n",
      "mandante_estado       0\n",
      "visitante_estado      0\n",
      "estado_vencedor       0\n",
      "dtype: int64\n"
     ]
    }
   ],
   "source": [
    "# 7. Tratamento de valores ausentes\n",
    "# Substituindo valores ausentes de colunas categóricas pelo valor mais frequente\n",
    "categorical_cols = ['formacao_mandante', 'formacao_visitante', 'tecnico_mandante', 'tecnico_visitante']\n",
    "\n",
    "for col in categorical_cols:\n",
    "    df[col] = df[col].fillna(df[col].mode()[0])\n",
    "\n",
    "print(df.isnull().sum())\n"
   ]
  },
  {
   "cell_type": "code",
   "execution_count": null,
   "id": "9fc782d7",
   "metadata": {},
   "outputs": [
    {
     "name": "stdout",
     "output_type": "stream",
     "text": [
      "outliers em mandante_placar e visitante_placar:\n",
      "mandante_placar     42\n",
      "visitante_placar    30\n",
      "dtype: int64\n"
     ]
    }
   ],
   "source": [
    "# 8. identificação de outliers (Z-Score) \n",
    "from scipy.stats import zscore\n",
    "\n",
    "# alculando Z-Score (outlier |Z| > 3) para as colunas de placar\n",
    "z_scores = df[['mandante_placar', 'visitante_placar']].apply(zscore)\n",
    "outliers = (z_scores.abs() > 3)\n",
    "\n",
    "print(\"outliers em mandante_placar e visitante_placar:\")\n",
    "print(outliers.sum())  # mostra quantos outliers em cada coluna\n"
   ]
  },
  {
   "cell_type": "code",
   "execution_count": null,
   "id": "0c01bbf9",
   "metadata": {},
   "outputs": [],
   "source": [
    "# 9. remoção ou tratamento dos outliers identificados.\n",
    "from scipy.stats import zscore\n",
    "\n",
    "# calculando Z-Score\n",
    "z_scores = df[['mandante_placar', 'visitante_placar']].apply(zscore)\n",
    "\n",
    "# mantendo somente as linhas onde |Z| <= 3\n",
    "df = df[(z_scores.abs() <= 3).all(axis=1)]\n"
   ]
  },
  {
   "cell_type": "code",
   "execution_count": 46,
   "id": "0279db1c",
   "metadata": {},
   "outputs": [
    {
     "name": "stdout",
     "output_type": "stream",
     "text": [
      "   rodada  rodada_normalizada  mandante_placar  mandante_placar_normalizado  \\\n",
      "0       1                 0.0                4                          0.8   \n",
      "1       1                 0.0                2                          0.4   \n",
      "2       1                 0.0                1                          0.2   \n",
      "3       1                 0.0                2                          0.4   \n",
      "4       1                 0.0                1                          0.2   \n",
      "5       1                 0.0                2                          0.4   \n",
      "6       1                 0.0                2                          0.4   \n",
      "7       1                 0.0                0                          0.0   \n",
      "8       1                 0.0                2                          0.4   \n",
      "9       1                 0.0                1                          0.2   \n",
      "\n",
      "   visitante_placar  visitante_placar_normalizado  \n",
      "0                 2                      0.666667  \n",
      "1                 0                      0.000000  \n",
      "2                 1                      0.333333  \n",
      "3                 2                      0.666667  \n",
      "4                 1                      0.333333  \n",
      "5                 0                      0.000000  \n",
      "6                 2                      0.666667  \n",
      "7                 0                      0.000000  \n",
      "8                 2                      0.666667  \n",
      "9                 1                      0.333333  \n"
     ]
    }
   ],
   "source": [
    "# 10. normalização das colunas rodada, mandante_placar e visitante_placar usando\n",
    "df['rodada_normalizada'] = (df['rodada'] - df['rodada'].min()) / (df['rodada'].max() - df['rodada'].min())\n",
    "df['mandante_placar_normalizado'] = (df['mandante_placar'] - df['mandante_placar'].min()) / (df['mandante_placar'].max() - df['mandante_placar'].min())\n",
    "df['visitante_placar_normalizado'] = (df['visitante_placar'] - df['visitante_placar'].min()) / (df['visitante_placar'].max() - df['visitante_placar'].min())\n",
    "\n",
    "print(df[['rodada', 'rodada_normalizada', 'mandante_placar', 'mandante_placar_normalizado',\n",
    "          'visitante_placar', 'visitante_placar_normalizado']].head(10))\n"
   ]
  },
  {
   "cell_type": "code",
   "execution_count": 47,
   "id": "4c291f4c",
   "metadata": {},
   "outputs": [
    {
     "name": "stdout",
     "output_type": "stream",
     "text": [
      "   ID  rodada        data   hora      dia       mandante    visitante  \\\n",
      "0   1       1  2003-03-29  16:00   Sabado        Guarani        Vasco   \n",
      "1   2       1  2003-03-29  16:00   Sabado   Athletico-PR       Gremio   \n",
      "2   3       1  2003-03-30  16:00  Domingo       Flamengo     Coritiba   \n",
      "3   4       1  2003-03-30  16:00  Domingo          Goias     Paysandu   \n",
      "4   5       1  2003-03-30  16:00  Domingo  Internacional  Ponte Preta   \n",
      "5   6       1  2003-03-30  16:00  Domingo       Criciuma   Fluminense   \n",
      "6   7       1  2003-03-30  16:00  Domingo      Juventude    Sao Paulo   \n",
      "7   8       1  2003-03-30  16:00  Domingo      Fortaleza        Bahia   \n",
      "8   9       1  2003-03-30  16:00  Domingo       Cruzeiro  Sao Caetano   \n",
      "9  10       1  2003-03-30  16:00  Domingo        Vitoria  Figueirense   \n",
      "\n",
      "  formacao_mandante formacao_visitante      tecnico_mandante  ...  \\\n",
      "0           4-2-3-1            4-2-3-1  L. Venker de Menezes  ...   \n",
      "1           4-2-3-1            4-2-3-1  L. Venker de Menezes  ...   \n",
      "2           4-2-3-1            4-2-3-1  L. Venker de Menezes  ...   \n",
      "3           4-2-3-1            4-2-3-1  L. Venker de Menezes  ...   \n",
      "4           4-2-3-1            4-2-3-1  L. Venker de Menezes  ...   \n",
      "5           4-2-3-1            4-2-3-1  L. Venker de Menezes  ...   \n",
      "6           4-2-3-1            4-2-3-1  L. Venker de Menezes  ...   \n",
      "7           4-2-3-1            4-2-3-1  L. Venker de Menezes  ...   \n",
      "8           4-2-3-1            4-2-3-1  L. Venker de Menezes  ...   \n",
      "9           4-2-3-1            4-2-3-1  L. Venker de Menezes  ...   \n",
      "\n",
      "  vencedor_Ponte Preta vencedor_Portuguesa  vencedor_Santa Cruz  \\\n",
      "0                False               False                False   \n",
      "1                False               False                False   \n",
      "2                False               False                False   \n",
      "3                False               False                False   \n",
      "4                False               False                False   \n",
      "5                False               False                False   \n",
      "6                False               False                False   \n",
      "7                False               False                False   \n",
      "8                False               False                False   \n",
      "9                False               False                False   \n",
      "\n",
      "   vencedor_Santo Andre vencedor_Santos  vencedor_Sao Caetano  \\\n",
      "0                 False           False                 False   \n",
      "1                 False           False                 False   \n",
      "2                 False           False                 False   \n",
      "3                 False           False                 False   \n",
      "4                 False           False                 False   \n",
      "5                 False           False                 False   \n",
      "6                 False           False                 False   \n",
      "7                 False           False                 False   \n",
      "8                 False           False                 False   \n",
      "9                 False           False                 False   \n",
      "\n",
      "   vencedor_Sao Paulo  vencedor_Sport  vencedor_Vasco  vencedor_Vitoria  \n",
      "0               False           False           False             False  \n",
      "1               False           False           False             False  \n",
      "2               False           False           False             False  \n",
      "3               False           False           False             False  \n",
      "4               False           False           False             False  \n",
      "5               False           False           False             False  \n",
      "6               False           False           False             False  \n",
      "7               False           False           False             False  \n",
      "8               False           False           False             False  \n",
      "9               False           False           False             False  \n",
      "\n",
      "[10 rows x 94 columns]\n"
     ]
    }
   ],
   "source": [
    "# 11. codificação de variáveis categóricas\n",
    "categorical_cols = ['mandante_estado', 'visitante_estado', 'vencedor']\n",
    "\n",
    "df_encoded = pd.get_dummies(df, columns=categorical_cols)\n",
    "\n",
    "print(df_encoded.head(10))\n"
   ]
  },
  {
   "cell_type": "code",
   "execution_count": 48,
   "id": "4f3150dc",
   "metadata": {},
   "outputs": [
    {
     "name": "stdout",
     "output_type": "stream",
     "text": [
      "                              rodada_normalizada  mandante_placar_normalizado  \\\n",
      "rodada_normalizada                      1.000000                     0.033448   \n",
      "mandante_placar_normalizado             0.033448                     1.000000   \n",
      "visitante_placar_normalizado            0.006218                     0.057089   \n",
      "\n",
      "                              visitante_placar_normalizado  \n",
      "rodada_normalizada                                0.006218  \n",
      "mandante_placar_normalizado                       0.057089  \n",
      "visitante_placar_normalizado                      1.000000  \n"
     ]
    }
   ],
   "source": [
    "# 12. criação de matriz de correlação (focando nos placares e rodadas)\n",
    "correlation_matrix = df_encoded[['rodada_normalizada', 'mandante_placar_normalizado', 'visitante_placar_normalizado']].corr()\n",
    "print(correlation_matrix)\n"
   ]
  },
  {
   "cell_type": "code",
   "execution_count": 51,
   "id": "fcbc4fbc",
   "metadata": {},
   "outputs": [
    {
     "data": {
      "image/png": "[encoded data removed]",
      "text/plain": [
       "<Figure size 800x600 with 1 Axes>"
      ]
     },
     "metadata": {},
     "output_type": "display_data"
    }
   ],
   "source": [
    "# 13. Gráfico de dispersão\n",
    "\n",
    "plt.figure(figsize=(8,6))\n",
    "plt.scatter(df_encoded['mandante_placar_normalizado'], df_encoded['visitante_placar_normalizado'], color='deeppink', alpha=0.6)\n",
    "plt.title(\"Gráfico de Dispersão: Placar Mandante x Placar Visitante\")\n",
    "plt.xlabel(\"Mandante (normalizado)\")\n",
    "plt.ylabel(\"Visitante (normalizado)\")\n",
    "plt.grid(True)\n",
    "plt.show()"
   ]
  },
  {
   "cell_type": "code",
   "execution_count": 54,
   "id": "20316dc7",
   "metadata": {},
   "outputs": [
    {
     "name": "stdout",
     "output_type": "stream",
     "text": [
      "      ID  rodada        data   hora      dia      mandante     visitante  \\\n",
      "0      1       1  2003-03-29  16:00   Sabado       Guarani         Vasco   \n",
      "35    48       3  2003-04-13  18:00  Domingo      Flamengo    Fluminense   \n",
      "57    58       5  2003-04-20  18:00  Domingo      Cruzeiro         Goias   \n",
      "67    68       6  2003-04-27  16:00  Domingo        Santos     Fortaleza   \n",
      "69    70       6  2003-04-27  16:00  Domingo  Athletico-PR      Criciuma   \n",
      "70    71       6  2003-04-27  18:00  Domingo      Paysandu     Sao Paulo   \n",
      "74    75       7  2003-05-03  18:00   Sabado      Cruzeiro  Athletico-PR   \n",
      "112  113      10  2003-05-25  16:00  Domingo  Athletico-PR      Flamengo   \n",
      "130  131      11  2003-06-01  18:00  Domingo   Corinthians       Vitoria   \n",
      "139  139      12  2003-06-08  16:00  Domingo  Athletico-PR   Ponte Preta   \n",
      "\n",
      "    formacao_mandante formacao_visitante      tecnico_mandante  ...  \\\n",
      "0             4-2-3-1            4-2-3-1  L. Venker de Menezes  ...   \n",
      "35            4-2-3-1            4-2-3-1  L. Venker de Menezes  ...   \n",
      "57            4-2-3-1            4-2-3-1  L. Venker de Menezes  ...   \n",
      "67            4-2-3-1            4-2-3-1  L. Venker de Menezes  ...   \n",
      "69            4-2-3-1            4-2-3-1  L. Venker de Menezes  ...   \n",
      "70            4-2-3-1            4-2-3-1  L. Venker de Menezes  ...   \n",
      "74            4-2-3-1            4-2-3-1  L. Venker de Menezes  ...   \n",
      "112           4-2-3-1            4-2-3-1  L. Venker de Menezes  ...   \n",
      "130           4-2-3-1            4-2-3-1  L. Venker de Menezes  ...   \n",
      "139           4-2-3-1            4-2-3-1  L. Venker de Menezes  ...   \n",
      "\n",
      "    vencedor_Ponte Preta vencedor_Portuguesa  vencedor_Santa Cruz  \\\n",
      "0                  False               False                False   \n",
      "35                 False               False                False   \n",
      "57                 False               False                False   \n",
      "67                 False               False                False   \n",
      "69                 False               False                False   \n",
      "70                 False               False                False   \n",
      "74                 False               False                False   \n",
      "112                False               False                False   \n",
      "130                False               False                False   \n",
      "139                False               False                False   \n",
      "\n",
      "     vencedor_Santo Andre vencedor_Santos  vencedor_Sao Caetano  \\\n",
      "0                   False           False                 False   \n",
      "35                  False           False                 False   \n",
      "57                  False           False                 False   \n",
      "67                  False            True                 False   \n",
      "69                  False           False                 False   \n",
      "70                  False           False                 False   \n",
      "74                  False           False                 False   \n",
      "112                 False           False                 False   \n",
      "130                 False           False                 False   \n",
      "139                 False           False                 False   \n",
      "\n",
      "     vencedor_Sao Paulo  vencedor_Sport  vencedor_Vasco  vencedor_Vitoria  \n",
      "0                 False           False           False             False  \n",
      "35                False           False           False             False  \n",
      "57                False           False           False             False  \n",
      "67                False           False           False             False  \n",
      "69                False           False           False             False  \n",
      "70                False           False           False             False  \n",
      "74                False           False           False             False  \n",
      "112               False           False           False             False  \n",
      "130               False           False           False             False  \n",
      "139               False           False           False             False  \n",
      "\n",
      "[10 rows x 94 columns]\n"
     ]
    }
   ],
   "source": [
    "# 14. filtragem de dados com base em uma condição: jogos onde o mandante marcou mais de 3 gols \n",
    "high_scoring_games = df_encoded[df_encoded['mandante_placar'] > 3]\n",
    "\n",
    "\n",
    "print(high_scoring_games.head(10))\n"
   ]
  },
  {
   "cell_type": "code",
   "execution_count": 55,
   "id": "413001fc",
   "metadata": {},
   "outputs": [],
   "source": [
    "# 15. exportação do df processado para csv\n",
    "df_encoded.to_csv(\"jogos_processados.csv\", index=False)"
   ]
  },
  {
   "cell_type": "code",
   "execution_count": 57,
   "id": "b3f2f837",
   "metadata": {},
   "outputs": [
    {
     "name": "stdout",
     "output_type": "stream",
     "text": [
      "        data   ano  mes\n",
      "0 2003-03-29  2003    3\n",
      "1 2003-03-29  2003    3\n",
      "2 2003-03-30  2003    3\n",
      "3 2003-03-30  2003    3\n",
      "4 2003-03-30  2003    3\n",
      "5 2003-03-30  2003    3\n",
      "6 2003-03-30  2003    3\n",
      "7 2003-03-30  2003    3\n",
      "8 2003-03-30  2003    3\n",
      "9 2003-03-30  2003    3\n"
     ]
    }
   ],
   "source": [
    "# 16. Conversão da coluna de datas (data) para tipo datetime e extração de novas colunas (ano, mês).\n",
    "df_encoded['data'] = pd.to_datetime(df_encoded['data'])\n",
    "df_encoded['ano'] = df_encoded['data'].dt.year\n",
    "df_encoded['mes'] = df_encoded['data'].dt.month\n",
    "\n",
    "print(df_encoded[['data', 'ano', 'mes']].head(10))\n"
   ]
  },
  {
   "cell_type": "code",
   "execution_count": 60,
   "id": "5c204f9e",
   "metadata": {},
   "outputs": [
    {
     "name": "stdout",
     "output_type": "stream",
     "text": [
      "Vitórias por estado do mandante:\n",
      "mandante_estado\n",
      "AL    0\n",
      "BA    0\n",
      "CE    0\n",
      "DF    0\n",
      "GO    0\n",
      "MG    0\n",
      "MT    0\n",
      "PA    0\n",
      "PE    0\n",
      "PR    0\n",
      "RJ    0\n",
      "RN    0\n",
      "RS    0\n",
      "SC    0\n",
      "SP    0\n",
      "Name: vencedor, dtype: int64\n",
      "\n",
      "Vitórias por time mandante:\n",
      "mandante\n",
      "America-MG         0\n",
      "America-RN         0\n",
      "Athletico-PR       0\n",
      "Atletico-GO        0\n",
      "Atletico-MG        0\n",
      "Avai               0\n",
      "Bahia              0\n",
      "Barueri            0\n",
      "Botafogo-RJ        0\n",
      "Bragantino         0\n",
      "Brasiliense        0\n",
      "CSA                0\n",
      "Ceara              0\n",
      "Chapecoense        0\n",
      "Corinthians        0\n",
      "Coritiba           0\n",
      "Criciuma           0\n",
      "Cruzeiro           0\n",
      "Cuiaba             0\n",
      "Figueirense        0\n",
      "Flamengo           0\n",
      "Fluminense         0\n",
      "Fortaleza          0\n",
      "Goias              0\n",
      "Gremio             0\n",
      "Gremio Prudente    0\n",
      "Guarani            0\n",
      "Internacional      0\n",
      "Ipatinga           0\n",
      "Joinville          0\n",
      "Juventude          0\n",
      "Nautico            0\n",
      "Palmeiras          0\n",
      "Parana             0\n",
      "Paysandu           0\n",
      "Ponte Preta        0\n",
      "Portuguesa         0\n",
      "Santa Cruz         0\n",
      "Santo Andre        0\n",
      "Santos             0\n",
      "Sao Caetano        0\n",
      "Sao Paulo          0\n",
      "Sport              0\n",
      "Vasco              0\n",
      "Vitoria            0\n",
      "Name: vencedor, dtype: int64\n"
     ]
    }
   ],
   "source": [
    "# 17. agrupamento dos dados\n",
    "\n",
    "# vitórias por estado do mandante\n",
    "vitorias_por_estado = df.groupby('mandante_estado')['vencedor'].apply(lambda x: (x == 'Mandante').sum())\n",
    "print(\"Vitórias por estado do mandante:\")\n",
    "print(vitorias_por_estado)\n",
    "\n",
    "# vitórias por time mandante\n",
    "vitorias_por_time = df.groupby('mandante')['vencedor'].apply(lambda x: (x == 'Mandante').sum())\n",
    "print(\"\\nVitórias por time mandante:\")\n",
    "print(vitorias_por_time)\n"
   ]
  },
  {
   "cell_type": "code",
   "execution_count": 63,
   "id": "0acbd0e2",
   "metadata": {},
   "outputs": [
    {
     "name": "stdout",
     "output_type": "stream",
     "text": [
      "   mandante_placar  visitante_placar  diferenca_gols\n",
      "0                4                 2               2\n",
      "1                2                 0               2\n",
      "2                1                 1               0\n",
      "3                2                 2               0\n",
      "4                1                 1               0\n",
      "5                2                 0               2\n",
      "6                2                 2               0\n",
      "7                0                 0               0\n",
      "8                2                 2               0\n",
      "9                1                 1               0\n"
     ]
    }
   ],
   "source": [
    "# 18. criação de colunas derivadas (ex.: diferença de gols = mandante_placar - visitante_placar).\n",
    "df_encoded['diferenca_gols'] = df_encoded['mandante_placar'] - df_encoded['visitante_placar']\n",
    "\n",
    "print(df_encoded[['mandante_placar', 'visitante_placar', 'diferenca_gols']].head(10))\n"
   ]
  },
  {
   "cell_type": "code",
   "execution_count": 72,
   "id": "d25b146c",
   "metadata": {},
   "outputs": [
    {
     "data": {
      "image/png": "[encoded data removed]",
      "text/plain": [
       "<Figure size 800x500 with 1 Axes>"
      ]
     },
     "metadata": {},
     "output_type": "display_data"
    }
   ],
   "source": [
    "# 19. gráfico: número de jogos por ano\n",
    "jogos_por_ano = df_encoded['ano'].value_counts().sort_index()\n",
    "\n",
    "plt.figure(figsize=(8,5))\n",
    "jogos_por_ano.plot(kind='bar', color='hotpink')\n",
    "plt.title(\"Número de jogos por ano\")\n",
    "plt.xlabel(\"Ano\")\n",
    "plt.ylabel(\"Quantidade de jogos\")\n",
    "plt.xticks(rotation=0)\n",
    "plt.grid(axis='y', linestyle='--', alpha=0.7)\n",
    "plt.show()\n"
   ]
  },
  {
   "cell_type": "code",
   "execution_count": null,
   "id": "cae07c82",
   "metadata": {},
   "outputs": [
    {
     "data": {
      "image/png": "[encoded data removed]",
      "text/plain": [
       "<Figure size 800x600 with 2 Axes>"
      ]
     },
     "metadata": {},
     "output_type": "display_data"
    }
   ],
   "source": [
    "# 20. heatmap da correlação com cores rosa e azul\n",
    "import seaborn as sns\n",
    "import matplotlib.pyplot as plt\n",
    "\n",
    "cols_corr = ['rodada_normalizada', 'mandante_placar_normalizado', 'visitante_placar_normalizado', 'diferenca_gols']\n",
    "\n",
    "# matriz de correlação\n",
    "corr_matrix = df_encoded[cols_corr].corr()\n",
    "\n",
    "# lotando o heatmap\n",
    "plt.figure(figsize=(8,6))\n",
    "sns.heatmap(\n",
    "    corr_matrix, \n",
    "    annot=True,\n",
    "    cmap='RdBu',\n",
    "    center=0,\n",
    "    fmt=\".2f\",\n",
    "    linewidths=0.5,\n",
    "    linecolor='white'\n",
    ")\n",
    "plt.title(\"Heatmap da Correlação\")\n",
    "plt.show()\n"
   ]
  }
 ],
 "metadata": {
  "kernelspec": {
   "display_name": "venv",
   "language": "python",
   "name": "python3"
  },
  "language_info": {
   "codemirror_mode": {
    "name": "ipython",
    "version": 3
   },
   "file_extension": ".py",
   "mimetype": "text/x-python",
   "name": "python",
   "nbconvert_exporter": "python",
   "pygments_lexer": "ipython3",
   "version": "3.12.10"
  }
 },
 "nbformat": 4,
 "nbformat_minor": 5
}
