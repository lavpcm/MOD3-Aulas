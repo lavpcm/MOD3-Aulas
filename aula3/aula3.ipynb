{
 "cells": [
  {
   "cell_type": "markdown",
   "id": "16874eaa",
   "metadata": {},
   "source": [
    "### 01  Exploração do dataset\n",
    "\n",
    "O código presente na célula serve para preparar o dataset: é importada a biblioteca pandas e atribuido o arquivo csv a um df. Ele mostra as primeiras linhas e exibe informações sobre colunas, tipos e valores faltantes. Em seguida, calcula estatísticas básicas das colunas numéricas e conta os valores ausentes em cada coluna. Por fim, converte a coluna de datas para o formato ```datetime``` e confirma os tipos de dados para garantir que a conversão foi feita corretamente. \n"
   ]
  },
  {
   "cell_type": "code",
   "execution_count": null,
   "id": "a407d9dc",
   "metadata": {},
   "outputs": [],
   "source": [
    "# 01 - Exploração inicial do dataset\n",
    "\n",
    "import pandas as pd \n",
    "\n",
    "df = pd.read_csv('tmdb_5000_movies.csv')\n",
    "\n",
    "print(df.head())\n",
    "print(df.info())\n",
    "print(df.describe())\n",
    "print(df.isnull().sum())\n",
    "\n",
    "df['release_date'] = pd.to_datetime(df['release_date'], errors='coerce')\n",
    "print(df.dtypes)\n",
    "\n"
   ]
  },
  {
   "cell_type": "markdown",
   "id": "a7380348",
   "metadata": {},
   "source": [
    "### 02 Análise de Receita\n",
    "\n",
    "O código importa as bibliotecas necessárias, lê o arquivo CSV e seleciona os 10 filmes com maior receita, ordenando do maior para o menor. Depois, mostra os títulos, orçamentos e receitas desses filmes. Em seguida, cria um gráfico de barras mostrando a receita dos 10 filmes. Por fim, o gráfico com os 10 filmes mais lucrativos e suas receitas é exibido."
   ]
  },
  {
   "cell_type": "code",
   "execution_count": null,
   "id": "33b2033a",
   "metadata": {},
   "outputs": [],
   "source": [
    "# 02 - Análise de Receita\n",
    "\n",
    "import pandas as pd\n",
    "import matplotlib.pyplot as plt\n",
    "\n",
    "df = pd.read_csv('tmdb_5000_movies.csv')\n",
    "top_10 = df.sort_values('revenue', ascending=False).head(10)\n",
    "\n",
    "print(top_10[['title', 'budget', 'revenue']])\n",
    "\n",
    "plt.figure(figsize=(12, 6), facecolor='powderblue')\n",
    "plt.bar(top_10['title'], top_10['revenue'], color='skyblue')\n",
    "plt.xticks(rotation=45, ha='right')\n",
    "plt.title(('Top 10 Filmes por Receita'), color='darkcyan')\n",
    "plt.xlabel(('Filmes'), color='darkcyan')\n",
    "plt.ylabel(('Receita'), color='darkcyan')\n",
    "plt.tight_layout()\n",
    "plt.show()"
   ]
  },
  {
   "cell_type": "markdown",
   "id": "18babd19",
   "metadata": {},
   "source": [
    "### 03 ROI (Retorno sobre Investimento)\n",
    "\n",
    "O código lê o arquivo csv com dados dos filmes e filtra os que têm orçamento maior que zero. A seguir, ele calcula o roi para cada filme, usando a fórmula ```((receita - orçamento)/orçamento)```. Por último, exibe os 10 filmes com maior roi, ordenados do maior para o menor, mostrando título e valor do roi."
   ]
  },
  {
   "cell_type": "code",
   "execution_count": null,
   "id": "b85c47b3",
   "metadata": {},
   "outputs": [],
   "source": [
    "# 03 - ROI (Retorno sobre investimento)\n",
    "\n",
    "import pandas as pd\n",
    "\n",
    "df = pd.read_csv('tmdb_5000_movies.csv')\n",
    "df = df[df['budget'] > 0]\n",
    "df['roi'] = (df['revenue'] - df['budget']) / df['budget']\n",
    "\n",
    "print(df[['title', 'roi']].sort_values('roi', ascending=False).head(10))"
   ]
  },
  {
   "cell_type": "markdown",
   "id": "63adee52",
   "metadata": {},
   "source": [
    "### 04 Lançamento por Ano\n",
    "\n",
    "São carregados os dados dos filmes e a coluna de datas é ajustada para um formato reconhecido pelo Python. Em seguida, é coletado o ano de lançamento de cada filme, contando quantos filmes saíram em cada ano. Por fim, um gráfico de linha que mostra a evolução do número de filmes lançados por ano é exibido."
   ]
  },
  {
   "cell_type": "code",
   "execution_count": null,
   "id": "570a1938",
   "metadata": {},
   "outputs": [],
   "source": [
    "# 04 - Lançamento por Ano\n",
    "\n",
    "import pandas as pd\n",
    "import matplotlib.pyplot as plt\n",
    "\n",
    "df = pd.read_csv('tmdb_5000_movies.csv')\n",
    "df['release_date'] = pd.to_datetime(df['release_date'], errors='coerce')\n",
    "df['year'] = df['release_date'].dt.year\n",
    "\n",
    "count_by_year = df['year'].value_counts().sort_index()\n",
    "\n",
    "count_by_year.plot(kind='line', figsize=(10, 6), title='Filmes Lançados por Ano', color='darkcyan')\n",
    "plt.xlabel('Ano', color='darkcyan')\n",
    "plt.ylabel('Quantidade de Filmes', color='darkcyan')\n",
    "plt.grid(True)\n",
    "plt.show()"
   ]
  },
  {
   "cell_type": "markdown",
   "id": "35e99f73",
   "metadata": {},
   "source": [
    "# 05 Duração dos Filmes (Runtime)\n",
    "\n",
    "O código lê os dados dos filmes e cria um gráfico para mostrar a duração dos filmes. Ele ignora valores inexistentes e divide a duração em 30 bins. Ele exibe quantos filmes se encaixam em cada faixa de duração."
   ]
  },
  {
   "cell_type": "code",
   "execution_count": null,
   "id": "a2b3a660",
   "metadata": {},
   "outputs": [],
   "source": [
    "# 05 - Duração dos Filmes (Runtime)\n",
    "\n",
    "import pandas as pd\n",
    "import matplotlib.pyplot as plt\n",
    "\n",
    "df = pd.read_csv('tmdb_5000_movies.csv')\n",
    "\n",
    "plt.hist(df['runtime'].dropna(), bins=30, color='skyblue', edgecolor='steelblue')\n",
    "plt.title(('Distribuição da Duração dos Filmes'), color='darkcyan')\n",
    "plt.xlabel('Minutos')\n",
    "plt.ylabel('Frequência')\n",
    "plt.show()\n"
   ]
  },
  {
   "cell_type": "markdown",
   "id": "413d137b",
   "metadata": {},
   "source": [
    "### 06 Filmes Mais Populares e Mais Votados\n",
    "\n",
    "O código da célula carrega os dados dos filmes e mostra duas listas: a primeira com os 10 filmes mais populares ordenados pela popularidade e a segunda com os 10 filmes que receberam mais votos ordenados pelo número de votos."
   ]
  },
  {
   "cell_type": "code",
   "execution_count": null,
   "id": "0c98a583",
   "metadata": {},
   "outputs": [],
   "source": [
    "# 06 - Filmes Mais Populares e Mais Votados\n",
    "\n",
    "import pandas as pd\n",
    "\n",
    "df = pd.read_csv('tmdb_5000_movies.csv')\n",
    "\n",
    "print('Top 10 por Popularidade:')\n",
    "print(df[['title', 'popularity']].sort_values('popularity', ascending=False).head(10))\n",
    "\n",
    "print('\\nTop 10 por Número de Votos:')\n",
    "print(df[['title', 'vote_count']].sort_values(by='vote_count', ascending=False).head(10))"
   ]
  },
  {
   "cell_type": "markdown",
   "id": "5993b50e",
   "metadata": {},
   "source": [
    "### 07 Média de Avaliação por Idioma\n",
    "\n",
    "O código lê os dados dos filmes e calcula a média das avaliações para cada idioma original. Depois, ordena os idiomas da média mais alta para a mais baixa e mostra essa lista, apresentando os idiomas com os filmes com melhores avaliações."
   ]
  },
  {
   "cell_type": "code",
   "execution_count": null,
   "id": "bd79b558",
   "metadata": {},
   "outputs": [],
   "source": [
    "# 07 - Média de Avaliação por Idioma\n",
    "\n",
    "import pandas as pd\n",
    "\n",
    "df = pd.read_csv('tmdb_5000_movies.csv')\n",
    "\n",
    "avg_by_lang = df.groupby('original_language')['vote_average'].mean().sort_values(ascending=False)\n",
    "print(avg_by_lang)"
   ]
  },
  {
   "cell_type": "markdown",
   "id": "ff267d49",
   "metadata": {},
   "source": [
    "### 08 Análise de Gêneros\n",
    "\n",
    "Os dados dos filmes são lidos e é transformada a coluna dos gêneros de texto para listas de nomes dos gêneros. A seguir, são reuídos todos os gêneros de todos os filmes em uma única lista, contando quantas vezes cada gênero aparece. Por fim, são exibidos os 10 gêneros mais comuns.\n"
   ]
  },
  {
   "cell_type": "code",
   "execution_count": null,
   "id": "593a8412",
   "metadata": {},
   "outputs": [],
   "source": [
    "# 08 - Análise de Gêneros\n",
    "\n",
    "import pandas as pd\n",
    "import ast\n",
    "from collections import Counter\n",
    "\n",
    "df = pd.read_csv('tmdb_5000_movies.csv')\n",
    "df['genres'] = df['genres'].apply(lambda x: [d['name'] for d in ast.literal_eval(x)] if pd.notnull(x) else [])\n",
    "\n",
    "all_genres = sum(df['genres'], [])\n",
    "genre_counts = Counter(all_genres)\n",
    "\n",
    "print(genre_counts.most_common(10))\n"
   ]
  },
  {
   "cell_type": "markdown",
   "id": "88dcca12",
   "metadata": {},
   "source": [
    "### 09 Palavras Chave Mais Frequentes\n",
    "\n",
    "O código lê os dados dos filmes e converte a coluna ```keywords``` de texto para listas com as palavras-chave de cada filme. Depois, reúne todas as palavras-chave em uma lista única e conta a frequência de cada uma. Por fim, mostra as 10 palavras-chave mais frequentes, explicitando os temas mais comuns nos filmes presentes."
   ]
  },
  {
   "cell_type": "code",
   "execution_count": null,
   "id": "cd81fe9b",
   "metadata": {},
   "outputs": [],
   "source": [
    "# 09 - Palavras-chave Mais Frequentes\n",
    "\n",
    "import pandas as pd\n",
    "import ast\n",
    "from collections import Counter\n",
    "\n",
    "df = pd.read_csv('tmdb_5000_movies.csv')\n",
    "df['keywords'] = df['keywords'].apply(lambda x: [d['name'] for d in ast.literal_eval(x)] if pd.notnull(x) else [])\n",
    "\n",
    "all_keywords = sum(df['keywords'], [])\n",
    "keyword_counts = Counter(all_keywords)\n",
    "\n",
    "print(keyword_counts.most_common(10))\n"
   ]
  },
  {
   "cell_type": "markdown",
   "id": "7896955d",
   "metadata": {},
   "source": [
    "### 10 Produtoras Mais Ativas\n",
    "\n",
    "São carregados os dados dos filmes e a coluna ```production_companies``` é transformada de texto para listas com os nomes das produtoras. Depois, são reunidas todas as produtoras em uma lista única, contando quantas vezes cada uma aparece. Por último, são mostradas as 10 produtoras que mais produziram filmes com base nos dados presentes."
   ]
  },
  {
   "cell_type": "code",
   "execution_count": null,
   "id": "54e746f3",
   "metadata": {},
   "outputs": [],
   "source": [
    "# 10 - Produtoras Mais Ativas\n",
    "\n",
    "import pandas as pd\n",
    "import ast\n",
    "from collections import Counter\n",
    "\n",
    "df = pd.read_csv('tmdb_5000_movies.csv')\n",
    "df['production_companies'] = df['production_companies'].apply(lambda x: [d['name'] for d in ast.literal_eval(x)] if pd.notnull(x) else [])\n",
    "\n",
    "all_companies = sum(df['production_companies'], [])\n",
    "company_counts = Counter(all_companies)\n",
    "\n",
    "print(company_counts.most_common(10))\n",
    "\n",
    "print(company_counts.most_common(10))\n"
   ]
  }
 ],
 "metadata": {
  "kernelspec": {
   "display_name": "venv",
   "language": "python",
   "name": "python3"
  },
  "language_info": {
   "codemirror_mode": {
    "name": "ipython",
    "version": 3
   },
   "file_extension": ".py",
   "mimetype": "text/x-python",
   "name": "python",
   "nbconvert_exporter": "python",
   "pygments_lexer": "ipython3",
   "version": "3.12.10"
  }
 },
 "nbformat": 4,
 "nbformat_minor": 5
}
